{
 "cells": [
  {
   "cell_type": "code",
   "execution_count": null,
   "metadata": {},
   "outputs": [],
   "source": [
    "SET @r1=0, @r2=0, @r3=0, @r4=0;\n",
    "SELECT MIN(Doctor), MIN(Professor), MIN(Singer), MIN(Actor)\n",
    "FROM(\n",
    "  SELECT CASE WHEN Occupation='Doctor' THEN (@r1:=@r1+1)\n",
    "            WHEN Occupation='Professor' THEN (@r2:=@r2+1)\n",
    "            WHEN Occupation='Singer' THEN (@r3:=@r3+1)\n",
    "            WHEN Occupation='Actor' THEN (@r4:=@r4+1) END AS RowNumber,\n",
    "    CASE WHEN Occupation='Doctor' THEN Name END AS Doctor,\n",
    "    CASE WHEN Occupation='Professor' THEN Name END AS Professor,\n",
    "    CASE WHEN Occupation='Singer' THEN Name END AS Singer,\n",
    "    CASE WHEN Occupation='Actor' THEN Name END AS Actor\n",
    "  FROM OCCUPATIONS\n",
    "  ORDER BY Name\n",
    ") Temp\n",
    "GROUP BY RowNumber"
   ]
  }
 ],
 "metadata": {
  "kernelspec": {
   "display_name": "Python 3",
   "language": "python",
   "name": "python3"
  },
  "language_info": {
   "codemirror_mode": {
    "name": "ipython",
    "version": 3
   },
   "file_extension": ".py",
   "mimetype": "text/x-python",
   "name": "python",
   "nbconvert_exporter": "python",
   "pygments_lexer": "ipython3",
   "version": "3.7.7"
  }
 },
 "nbformat": 4,
 "nbformat_minor": 4
}
