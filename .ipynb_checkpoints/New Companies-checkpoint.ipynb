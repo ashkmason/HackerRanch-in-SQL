{
 "cells": [
  {
   "cell_type": "code",
   "execution_count": null,
   "metadata": {},
   "outputs": [],
   "source": [
    "SELECT c1.company_code, c1.founder, COUNT(DISTINCT l1.lead_manager_code), COUNT(DISTINCT s1.senior_manager_code), COUNT(DISTINCT m1.manager_code), COUNT(DISTINCT e1.employee_code)\n",
    "FROM company AS c1\n",
    "INNER JOIN lead_manager AS l1 USING (company_code)\n",
    "INNER JOIN senior_manager AS s1 USING (company_code)\n",
    "INNER JOIN manager AS m1 USING (company_code)\n",
    "INNER JOIN employee AS e1 USING (company_code)\n",
    "GROUP BY c1.company_code, c1.founder\n",
    "ORDER BY c1.company_code ASC;"
   ]
  }
 ],
 "metadata": {
  "kernelspec": {
   "display_name": "Python 3",
   "language": "python",
   "name": "python3"
  },
  "language_info": {
   "codemirror_mode": {
    "name": "ipython",
    "version": 3
   },
   "file_extension": ".py",
   "mimetype": "text/x-python",
   "name": "python",
   "nbconvert_exporter": "python",
   "pygments_lexer": "ipython3",
   "version": "3.7.7"
  }
 },
 "nbformat": 4,
 "nbformat_minor": 4
}
