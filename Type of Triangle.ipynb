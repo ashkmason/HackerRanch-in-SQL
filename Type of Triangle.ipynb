{
 "cells": [
  {
   "cell_type": "code",
   "execution_count": null,
   "metadata": {},
   "outputs": [],
   "source": [
    "SELECT CASE \n",
    "    WHEN A + B > C AND B + C > A AND A + C > B THEN\n",
    "        CASE\n",
    "            WHEN A = B AND B = C THEN 'Equilateral'\n",
    "            WHEN A = B OR B = C OR A = C THEN 'Isosceles'\n",
    "            WHEN A <> B AND B <> C AND A <> C THEN 'Scalene'\n",
    "        END\n",
    "    ELSE 'Not A Triangle'\n",
    "    END\n",
    "FROM triangles;"
   ]
  }
 ],
 "metadata": {
  "kernelspec": {
   "display_name": "Python 3",
   "language": "python",
   "name": "python3"
  },
  "language_info": {
   "codemirror_mode": {
    "name": "ipython",
    "version": 3
   },
   "file_extension": ".py",
   "mimetype": "text/x-python",
   "name": "python",
   "nbconvert_exporter": "python",
   "pygments_lexer": "ipython3",
   "version": "3.7.7"
  }
 },
 "nbformat": 4,
 "nbformat_minor": 4
}
