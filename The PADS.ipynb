{
 "cells": [
  {
   "cell_type": "code",
   "execution_count": null,
   "metadata": {},
   "outputs": [],
   "source": [
    "SELECT CONCAT(name,('('), LEFT(occupation, 1), (')'))\n",
    "FROM occupations\n",
    "ORDER BY name;\n",
    "\n",
    "SELECT CONCAT('There are a total of ', count, ' ', lower(occupation), 's.')\n",
    "FROM ( \n",
    "    SELECT occupation, COUNT(occupation) AS count\n",
    "    FROM occupations\n",
    "    GROUP BY occupation\n",
    "    ORDER BY count, occupation\n",
    ") occupationCount;"
   ]
  }
 ],
 "metadata": {
  "kernelspec": {
   "display_name": "Python 3",
   "language": "python",
   "name": "python3"
  },
  "language_info": {
   "codemirror_mode": {
    "name": "ipython",
    "version": 3
   },
   "file_extension": ".py",
   "mimetype": "text/x-python",
   "name": "python",
   "nbconvert_exporter": "python",
   "pygments_lexer": "ipython3",
   "version": "3.7.7"
  }
 },
 "nbformat": 4,
 "nbformat_minor": 4
}
